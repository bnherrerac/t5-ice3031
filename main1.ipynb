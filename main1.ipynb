{
 "cells": [
  {
   "cell_type": "code",
   "execution_count": 1,
   "metadata": {},
   "outputs": [],
   "source": [
    "import numpy as np\n",
    "import matplotlib.pyplot as plt\n",
    "import pyvista\n",
    "import ufl\n",
    "import time\n",
    "from mpi4py import MPI\n",
    "from petsc4py import PETSc\n",
    "import dolfinx\n",
    "from dolfinx import fem, mesh, plot, nls, log, io\n",
    "%load_ext autoreload\n",
    "%autoreload 2"
   ]
  },
  {
   "cell_type": "code",
   "execution_count": 2,
   "metadata": {},
   "outputs": [],
   "source": [
    "from hyperelasticity import HyperelasticModel"
   ]
  },
  {
   "cell_type": "code",
   "execution_count": 3,
   "metadata": {},
   "outputs": [],
   "source": [
    "ksp_types = ['richardson', 'cg', 'bicg', 'bcgs', 'gmres'] # ibcgs, tfqmr\n",
    "pc_types = ['jacobi', 'sor', 'ilu', 'gamg']"
   ]
  },
  {
   "cell_type": "code",
   "execution_count": 4,
   "metadata": {},
   "outputs": [],
   "source": [
    "times = {}"
   ]
  },
  {
   "cell_type": "code",
   "execution_count": 5,
   "metadata": {},
   "outputs": [
    {
     "name": "stdout",
     "output_type": "stream",
     "text": [
      "max_dims = [24.76658, 24.74611, 24.77482]\n",
      "min_dims = [0.28539, 0.2329, 0.2496]\n",
      "\n"
     ]
    },
    {
     "name": "stderr",
     "output_type": "stream",
     "text": [
      "2023-11-12 17:27:15.149 (   3.500s) [main            ]                MPI.cpp:165   INFO| Computing communication graph edges (using NBX algorithm). Number of input edges: 0\n",
      "2023-11-12 17:27:15.149 (   3.500s) [main            ]                MPI.cpp:236   INFO| Finished graph edge discovery using NBX algorithm. Number of discovered edges 0\n",
      "2023-11-12 17:27:15.149 (   3.500s) [main            ]                MPI.cpp:165   INFO| Computing communication graph edges (using NBX algorithm). Number of input edges: 0\n",
      "2023-11-12 17:27:15.149 (   3.500s) [main            ]                MPI.cpp:236   INFO| Finished graph edge discovery using NBX algorithm. Number of discovered edges 0\n",
      "2023-11-12 17:27:15.149 (   3.500s) [main            ]                MPI.cpp:165   INFO| Computing communication graph edges (using NBX algorithm). Number of input edges: 0\n",
      "2023-11-12 17:27:15.149 (   3.500s) [main            ]                MPI.cpp:236   INFO| Finished graph edge discovery using NBX algorithm. Number of discovered edges 0\n",
      "2023-11-12 17:27:15.149 (   3.500s) [main            ]                MPI.cpp:165   INFO| Computing communication graph edges (using NBX algorithm). Number of input edges: 0\n",
      "2023-11-12 17:27:15.149 (   3.500s) [main            ]                MPI.cpp:236   INFO| Finished graph edge discovery using NBX algorithm. Number of discovered edges 0\n",
      "2023-11-12 17:27:15.149 (   3.500s) [main            ]                MPI.cpp:165   INFO| Computing communication graph edges (using NBX algorithm). Number of input edges: 0\n",
      "2023-11-12 17:27:15.149 (   3.500s) [main            ]                MPI.cpp:236   INFO| Finished graph edge discovery using NBX algorithm. Number of discovered edges 0\n",
      "2023-11-12 17:27:15.371 (   3.721s) [main            ]              petsc.cpp:675   INFO| PETSc Krylov solver starting to solve system.\n",
      "2023-11-12 17:27:18.934 (   7.284s) [main            ]              petsc.cpp:675   INFO| PETSc Krylov solver starting to solve system.\n",
      "2023-11-12 17:27:22.284 (  10.634s) [main            ]       NewtonSolver.cpp:36    INFO| Newton iteration 2: r (abs) = 3.32517e-14 (tol = 1e-08) r (rel) = 0.981045(tol = 1e-08)\n",
      "2023-11-12 17:27:22.284 (  10.634s) [main            ]       NewtonSolver.cpp:255   INFO| Newton solver finished in 2 iterations and 173 linear solver iterations.\n",
      "2023-11-12 17:27:23.317 (  11.667s) [main            ]              petsc.cpp:675   INFO| PETSc Krylov solver starting to solve system.\n",
      "2023-11-12 17:27:26.273 (  14.623s) [main            ]              petsc.cpp:675   INFO| PETSc Krylov solver starting to solve system.\n",
      "2023-11-12 17:27:30.648 (  18.999s) [main            ]       NewtonSolver.cpp:36    INFO| Newton iteration 2: r (abs) = 2.9098 (tol = 1e-08) r (rel) = 0.030148(tol = 1e-08)\n",
      "2023-11-12 17:27:30.887 (  19.237s) [main            ]              petsc.cpp:675   INFO| PETSc Krylov solver starting to solve system.\n",
      "2023-11-12 17:27:36.762 (  25.112s) [main            ]       NewtonSolver.cpp:36    INFO| Newton iteration 3: r (abs) = 0.319554 (tol = 1e-08) r (rel) = 0.00331085(tol = 1e-08)\n",
      "2023-11-12 17:27:36.978 (  25.329s) [main            ]              petsc.cpp:675   INFO| PETSc Krylov solver starting to solve system.\n",
      "2023-11-12 17:27:45.208 (  33.559s) [main            ]       NewtonSolver.cpp:36    INFO| Newton iteration 4: r (abs) = 0.0976842 (tol = 1e-08) r (rel) = 0.00101209(tol = 1e-08)\n",
      "2023-11-12 17:27:45.425 (  33.775s) [main            ]              petsc.cpp:675   INFO| PETSc Krylov solver starting to solve system.\n",
      "2023-11-12 17:27:57.032 (  45.382s) [main            ]       NewtonSolver.cpp:36    INFO| Newton iteration 5: r (abs) = 0.00765081 (tol = 1e-08) r (rel) = 7.92688e-05(tol = 1e-08)\n",
      "2023-11-12 17:27:57.250 (  45.601s) [main            ]              petsc.cpp:675   INFO| PETSc Krylov solver starting to solve system.\n",
      "2023-11-12 17:28:10.794 (  59.144s) [main            ]       NewtonSolver.cpp:36    INFO| Newton iteration 6: r (abs) = 0.000153989 (tol = 1e-08) r (rel) = 1.59546e-06(tol = 1e-08)\n",
      "2023-11-12 17:28:11.014 (  59.365s) [main            ]              petsc.cpp:675   INFO| PETSc Krylov solver starting to solve system.\n",
      "2023-11-12 17:28:20.740 (  69.091s) [main            ]       NewtonSolver.cpp:36    INFO| Newton iteration 7: r (abs) = 2.42673e-08 (tol = 1e-08) r (rel) = 2.5143e-10(tol = 1e-08)\n",
      "2023-11-12 17:28:20.740 (  69.091s) [main            ]       NewtonSolver.cpp:255   INFO| Newton solver finished in 7 iterations and 1678 linear solver iterations.\n",
      "2023-11-12 17:28:21.148 (  69.498s) [main            ]              petsc.cpp:675   INFO| PETSc Krylov solver starting to solve system.\n",
      "2023-11-12 17:28:23.920 (  72.271s) [main            ]              petsc.cpp:675   INFO| PETSc Krylov solver starting to solve system.\n",
      "2023-11-12 17:28:28.387 (  76.738s) [main            ]       NewtonSolver.cpp:36    INFO| Newton iteration 2: r (abs) = 2.28181 (tol = 1e-08) r (rel) = 0.0241692(tol = 1e-08)\n",
      "2023-11-12 17:28:28.607 (  76.958s) [main            ]              petsc.cpp:675   INFO| PETSc Krylov solver starting to solve system.\n",
      "2023-11-12 17:28:34.638 (  82.989s) [main            ]       NewtonSolver.cpp:36    INFO| Newton iteration 3: r (abs) = 0.258479 (tol = 1e-08) r (rel) = 0.00273783(tol = 1e-08)\n",
      "2023-11-12 17:28:34.850 (  83.201s) [main            ]              petsc.cpp:675   INFO| PETSc Krylov solver starting to solve system.\n",
      "2023-11-12 17:28:45.348 (  93.698s) [main            ]       NewtonSolver.cpp:36    INFO| Newton iteration 4: r (abs) = 0.097313 (tol = 1e-08) r (rel) = 0.00103075(tol = 1e-08)\n",
      "2023-11-12 17:28:45.559 (  93.909s) [main            ]              petsc.cpp:675   INFO| PETSc Krylov solver starting to solve system.\n",
      "2023-11-12 17:28:56.500 ( 104.850s) [main            ]       NewtonSolver.cpp:36    INFO| Newton iteration 5: r (abs) = 0.00830741 (tol = 1e-08) r (rel) = 8.7993e-05(tol = 1e-08)\n",
      "2023-11-12 17:28:56.718 ( 105.068s) [main            ]              petsc.cpp:675   INFO| PETSc Krylov solver starting to solve system.\n",
      "2023-11-12 17:29:08.722 ( 117.072s) [main            ]       NewtonSolver.cpp:36    INFO| Newton iteration 6: r (abs) = 0.000166694 (tol = 1e-08) r (rel) = 1.76564e-06(tol = 1e-08)\n",
      "2023-11-12 17:29:08.943 ( 117.293s) [main            ]              petsc.cpp:675   INFO| PETSc Krylov solver starting to solve system.\n",
      "2023-11-12 17:29:19.320 ( 127.670s) [main            ]       NewtonSolver.cpp:36    INFO| Newton iteration 7: r (abs) = 2.87834e-08 (tol = 1e-08) r (rel) = 3.04876e-10(tol = 1e-08)\n",
      "2023-11-12 17:29:19.320 ( 127.670s) [main            ]       NewtonSolver.cpp:255   INFO| Newton solver finished in 7 iterations and 1715 linear solver iterations.\n",
      "2023-11-12 17:29:19.713 ( 128.064s) [main            ]              petsc.cpp:675   INFO| PETSc Krylov solver starting to solve system.\n",
      "2023-11-12 17:29:22.398 ( 130.748s) [main            ]              petsc.cpp:675   INFO| PETSc Krylov solver starting to solve system.\n",
      "2023-11-12 17:29:26.502 ( 134.853s) [main            ]       NewtonSolver.cpp:36    INFO| Newton iteration 2: r (abs) = 2.02871 (tol = 1e-08) r (rel) = 0.0219335(tol = 1e-08)\n",
      "2023-11-12 17:29:26.727 ( 135.077s) [main            ]              petsc.cpp:675   INFO| PETSc Krylov solver starting to solve system.\n",
      "2023-11-12 17:29:33.710 ( 142.061s) [main            ]       NewtonSolver.cpp:36    INFO| Newton iteration 3: r (abs) = 0.265616 (tol = 1e-08) r (rel) = 0.00287172(tol = 1e-08)\n",
      "2023-11-12 17:29:33.930 ( 142.280s) [main            ]              petsc.cpp:675   INFO| PETSc Krylov solver starting to solve system.\n",
      "2023-11-12 17:29:44.963 ( 153.314s) [main            ]       NewtonSolver.cpp:36    INFO| Newton iteration 4: r (abs) = 0.0995186 (tol = 1e-08) r (rel) = 0.00107595(tol = 1e-08)\n",
      "2023-11-12 17:29:45.187 ( 153.537s) [main            ]              petsc.cpp:675   INFO| PETSc Krylov solver starting to solve system.\n",
      "2023-11-12 17:29:57.531 ( 165.882s) [main            ]       NewtonSolver.cpp:36    INFO| Newton iteration 5: r (abs) = 0.0126948 (tol = 1e-08) r (rel) = 0.000137251(tol = 1e-08)\n",
      "2023-11-12 17:29:57.743 ( 166.093s) [main            ]              petsc.cpp:675   INFO| PETSc Krylov solver starting to solve system.\n",
      "2023-11-12 17:30:10.536 ( 178.887s) [main            ]       NewtonSolver.cpp:36    INFO| Newton iteration 6: r (abs) = 0.00027409 (tol = 1e-08) r (rel) = 2.96334e-06(tol = 1e-08)\n",
      "2023-11-12 17:30:10.768 ( 179.119s) [main            ]              petsc.cpp:675   INFO| PETSc Krylov solver starting to solve system.\n",
      "2023-11-12 17:30:22.499 ( 190.850s) [main            ]       NewtonSolver.cpp:36    INFO| Newton iteration 7: r (abs) = 1.14786e-07 (tol = 1e-08) r (rel) = 1.24101e-09(tol = 1e-08)\n",
      "2023-11-12 17:30:22.499 ( 190.850s) [main            ]       NewtonSolver.cpp:255   INFO| Newton solver finished in 7 iterations and 1856 linear solver iterations.\n",
      "2023-11-12 17:30:22.904 ( 191.255s) [main            ]              petsc.cpp:675   INFO| PETSc Krylov solver starting to solve system.\n",
      "2023-11-12 17:30:25.602 ( 193.953s) [main            ]              petsc.cpp:675   INFO| PETSc Krylov solver starting to solve system.\n",
      "2023-11-12 17:30:30.021 ( 198.372s) [main            ]       NewtonSolver.cpp:36    INFO| Newton iteration 2: r (abs) = 1.7381 (tol = 1e-08) r (rel) = 0.0191091(tol = 1e-08)\n",
      "2023-11-12 17:30:30.238 ( 198.589s) [main            ]              petsc.cpp:675   INFO| PETSc Krylov solver starting to solve system.\n",
      "2023-11-12 17:30:36.651 ( 205.001s) [main            ]       NewtonSolver.cpp:36    INFO| Newton iteration 3: r (abs) = 0.278612 (tol = 1e-08) r (rel) = 0.00306312(tol = 1e-08)\n",
      "2023-11-12 17:30:36.867 ( 205.218s) [main            ]              petsc.cpp:675   INFO| PETSc Krylov solver starting to solve system.\n",
      "2023-11-12 17:30:46.044 ( 214.395s) [main            ]       NewtonSolver.cpp:36    INFO| Newton iteration 4: r (abs) = 0.0906184 (tol = 1e-08) r (rel) = 0.000996278(tol = 1e-08)\n",
      "2023-11-12 17:30:46.259 ( 214.609s) [main            ]              petsc.cpp:675   INFO| PETSc Krylov solver starting to solve system.\n",
      "2023-11-12 17:30:58.521 ( 226.872s) [main            ]       NewtonSolver.cpp:36    INFO| Newton iteration 5: r (abs) = 0.0143217 (tol = 1e-08) r (rel) = 0.000157456(tol = 1e-08)\n",
      "2023-11-12 17:30:58.740 ( 227.090s) [main            ]              petsc.cpp:675   INFO| PETSc Krylov solver starting to solve system.\n",
      "2023-11-12 17:31:12.275 ( 240.626s) [main            ]       NewtonSolver.cpp:36    INFO| Newton iteration 6: r (abs) = 0.000258624 (tol = 1e-08) r (rel) = 2.84337e-06(tol = 1e-08)\n",
      "2023-11-12 17:31:12.487 ( 240.837s) [main            ]              petsc.cpp:675   INFO| PETSc Krylov solver starting to solve system.\n",
      "2023-11-12 17:31:22.175 ( 250.526s) [main            ]       NewtonSolver.cpp:36    INFO| Newton iteration 7: r (abs) = 1.35954e-07 (tol = 1e-08) r (rel) = 1.49471e-09(tol = 1e-08)\n",
      "2023-11-12 17:31:22.175 ( 250.526s) [main            ]       NewtonSolver.cpp:255   INFO| Newton solver finished in 7 iterations and 1740 linear solver iterations.\n"
     ]
    },
    {
     "name": "stdout",
     "output_type": "stream",
     "text": [
      "Time elapsed = 245.7863585948944 s.\n"
     ]
    }
   ],
   "source": [
    "model = HyperelasticModel(nn = [20,10,10], ksp_type=ksp_types[4], pc_type=pc_types[3], show=False)\n",
    "times[ksp_types[0]] = model.run_simulation(gif=True)"
   ]
  },
  {
   "cell_type": "code",
   "execution_count": 6,
   "metadata": {},
   "outputs": [],
   "source": [
    "# for ksp_type in ksp_types:\n",
    "#     model = HyperelasticModel(nn = [20,10,10], ksp_type=ksp_type, pc_type=pc_types[3], show=False)\n",
    "#     times[ksp_type] = model.run_simulation()\n",
    "    # times[ksp_type] = {}\n",
    "    # for pc_type in pc_types:\n",
    "    #     model = HyperelasticModel(nn = [20,10,10], ksp_type=ksp_type, pc_type=pc_type, show=False)\n",
    "    #     times[ksp_type][pc_type] = model.run_simulation()"
   ]
  },
  {
   "cell_type": "code",
   "execution_count": 7,
   "metadata": {},
   "outputs": [
    {
     "data": {
      "text/plain": [
       "{'richardson': 245.7863585948944}"
      ]
     },
     "execution_count": 7,
     "metadata": {},
     "output_type": "execute_result"
    }
   ],
   "source": [
    "times"
   ]
  }
 ],
 "metadata": {
  "kernelspec": {
   "display_name": "Python 3",
   "language": "python",
   "name": "python3"
  },
  "language_info": {
   "codemirror_mode": {
    "name": "ipython",
    "version": 3
   },
   "file_extension": ".py",
   "mimetype": "text/x-python",
   "name": "python",
   "nbconvert_exporter": "python",
   "pygments_lexer": "ipython3",
   "version": "3.10.12"
  }
 },
 "nbformat": 4,
 "nbformat_minor": 2
}
